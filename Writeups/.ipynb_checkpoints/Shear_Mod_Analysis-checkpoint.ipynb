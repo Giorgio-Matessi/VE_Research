{
 "cells": [
  {
   "cell_type": "markdown",
   "id": "eba117c4-5af8-4fcc-a4f8-cfb5e0e261a6",
   "metadata": {
    "tags": []
   },
   "source": [
    "# Changing Shear Modulus In Basic CitCom_VE Model"
   ]
  },
  {
   "cell_type": "markdown",
   "id": "21128804-69bb-4d4a-a4c6-6d1720febb31",
   "metadata": {},
   "source": [
    "## Input Changes: \n",
    "- Increasing/Decreasing Shear Modulus value (keeping it constant throughout material) \n",
    "- Keeping everything in input_VS1 the same"
   ]
  },
  {
   "cell_type": "markdown",
   "id": "f2411731-81ee-42a7-81ce-2fa60114533e",
   "metadata": {},
   "source": [
    "## Files:\n",
    "    \n",
    "* inputSHEAR-3: Shear modulus goes down to 5e7\n",
    "* inputSHEAR-2: Shear modulus goes down to 5e8\n",
    "* inputSHEAR-1: Shear modulus goes down to 5e9\n",
    "* inputSHEAR1: Shear modulus stays at 5e10\n",
    "* inputSHEAR2: Shear modulus goes up to 5e11\n",
    "* inputSHEAR3: Shear modulus goes up to 5e12\n",
    "* inputSHEAR4: Shear modulus goes up to 5e13\n",
    "    "
   ]
  },
  {
   "cell_type": "code",
   "execution_count": 1,
   "id": "16200fee",
   "metadata": {},
   "outputs": [
    {
     "ename": "ModuleNotFoundError",
     "evalue": "No module named 'matplotlib'",
     "output_type": "error",
     "traceback": [
      "\u001b[1;31m---------------------------------------------------------------------------\u001b[0m",
      "\u001b[1;31mModuleNotFoundError\u001b[0m                       Traceback (most recent call last)",
      "Input \u001b[1;32mIn [1]\u001b[0m, in \u001b[0;36m<cell line: 2>\u001b[1;34m()\u001b[0m\n\u001b[0;32m      1\u001b[0m \u001b[38;5;66;03m## Imports:\u001b[39;00m\n\u001b[1;32m----> 2\u001b[0m \u001b[38;5;28;01mimport\u001b[39;00m \u001b[38;5;21;01mmatplotlib\u001b[39;00m\u001b[38;5;21;01m.\u001b[39;00m\u001b[38;5;21;01mpyplot\u001b[39;00m \u001b[38;5;28;01mas\u001b[39;00m \u001b[38;5;21;01mplt\u001b[39;00m\n\u001b[0;32m      3\u001b[0m \u001b[38;5;28;01mimport\u001b[39;00m \u001b[38;5;21;01mnumpy\u001b[39;00m \u001b[38;5;28;01mas\u001b[39;00m \u001b[38;5;21;01mnp\u001b[39;00m\n\u001b[0;32m      4\u001b[0m \u001b[38;5;28;01mimport\u001b[39;00m \u001b[38;5;21;01mpandas\u001b[39;00m \u001b[38;5;28;01mas\u001b[39;00m \u001b[38;5;21;01mpd\u001b[39;00m\n",
      "\u001b[1;31mModuleNotFoundError\u001b[0m: No module named 'matplotlib'"
     ]
    }
   ],
   "source": [
    "## Imports:\n",
    "import matplotlib.pyplot as plt\n",
    "import numpy as np\n",
    "import pandas as pd\n",
    "import csv "
   ]
  },
  {
   "cell_type": "markdown",
   "id": "bb65cfbb-45dd-45b5-8d1a-5d253dfff393",
   "metadata": {},
   "source": [
    "## Relevant Formulas: \n",
    "# $\\newline\\sigma_{ij}+\\frac{\\eta}{\\mu}\\frac{d\\sigma_{ij}}{dt}=-p\\delta_{ij}+\\eta\\frac{d\\varepsilon_{ij}}{dt}$ \n"
   ]
  },
  {
   "cell_type": "markdown",
   "id": "1fa944a7-dd5c-46a4-9804-5e45779be346",
   "metadata": {},
   "source": [
    "## Predictions: \n",
    "Based on the above formulae I predict that as the shear modulus goes up the the strain will go down since shear modulus and strain are inversely proportional. The opposite will be true when the shear modulus goes down. The above equation can be rewritten to $\\;\\frac{1}{\\eta}(\\sigma_{ij}+\\frac{\\eta}{\\mu}\\frac{d\\sigma_{ij}}{dt}+p\\delta_{ij})=\\frac{d\\varepsilon_{ij}}{dt}\\;$ to more clearly see this relationship (where $\\mu$ is the shear modulus)."
   ]
  },
  {
   "cell_type": "markdown",
   "id": "dcdab5f9-1caf-44ab-bef6-6fb0f78c84a5",
   "metadata": {},
   "source": [
    "## Process: \n",
    "In order to see the effects of the strain, I will compare and graph the topographical data at mulitple different times to see the effects of a changed shear modulus.\n"
   ]
  },
  {
   "cell_type": "markdown",
   "id": "3624811f",
   "metadata": {},
   "source": [
    "***"
   ]
  },
  {
   "cell_type": "markdown",
   "id": "c63acd7a-c37a-435c-aa7e-949f66588ff1",
   "metadata": {
    "tags": []
   },
   "source": [
    "## Graphing "
   ]
  },
  {
   "cell_type": "markdown",
   "id": "5716fba0",
   "metadata": {},
   "source": [
    "### inputSHEAR1 (5e10)"
   ]
  },
  {
   "cell_type": "code",
   "execution_count": null,
   "id": "359c5756-8f24-4c11-a697-e34f30ae536c",
   "metadata": {},
   "outputs": [],
   "source": [
    "import matplotlib.pyplot as plt\n",
    "import numpy as np\n",
    "import pandas as pd\n",
    "import csv \n",
    "\n"
   ]
  }
 ],
 "metadata": {
  "kernelspec": {
   "display_name": "Python 3 (ipykernel)",
   "language": "python",
   "name": "python3"
  },
  "language_info": {
   "codemirror_mode": {
    "name": "ipython",
    "version": 3
   },
   "file_extension": ".py",
   "mimetype": "text/x-python",
   "name": "python",
   "nbconvert_exporter": "python",
   "pygments_lexer": "ipython3",
   "version": "3.10.5"
  },
  "vscode": {
   "interpreter": {
    "hash": "43c5daee6e624531d67be564207c133bb0a343d881fc59c9f29e6b4f3eb22586"
   }
  }
 },
 "nbformat": 4,
 "nbformat_minor": 5
}
